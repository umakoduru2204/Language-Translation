{
  "cells": [
    {
      "cell_type": "code",
      "execution_count": null,
      "metadata": {
        "colab": {
          "base_uri": "https://localhost:8080/"
        },
        "id": "ZP13X1nVmBbJ",
        "outputId": "e1fd3df1-f03d-42c2-d0ec-e0a213e6a709"
      },
      "outputs": [],
      "source": [
        "pip install googletrans"
      ]
    },
    {
      "cell_type": "code",
      "execution_count": null,
      "metadata": {},
      "outputs": [],
      "source": [
        "pip install googletrans requests\n"
      ]
    },
    {
      "cell_type": "code",
      "execution_count": null,
      "metadata": {
        "id": "nQUCrt7CmbhN"
      },
      "outputs": [],
      "source": [
        "import googletrans\n",
        "from googletrans import Translator"
      ]
    },
    {
      "cell_type": "code",
      "execution_count": null,
      "metadata": {
        "colab": {
          "base_uri": "https://localhost:8080/"
        },
        "id": "X_eP8od4nCq8",
        "outputId": "dcdd1f26-57ad-4e98-a391-04e98d710f04"
      },
      "outputs": [],
      "source": [
        "print(googletrans.LANGUAGES)"
      ]
    },
    {
      "cell_type": "code",
      "execution_count": null,
      "metadata": {},
      "outputs": [],
      "source": [
        "import requests\n",
        "from googletrans import Translator\n",
        "from requests.adapters import HTTPAdapter\n",
        "from requests.packages.urllib3.util.retry import Retry\n",
        "\n",
        "def translate_with_retry(text):\n",
        "    translator = Translator()\n",
        "    \n",
        "    # Define retry strategy\n",
        "    retry_strategy = Retry(\n",
        "        total=3,\n",
        "        backoff_factor=1,\n",
        "        status_forcelist=[429, 500, 502, 503, 504],\n",
        "        allowed_methods=[\"HEAD\", \"GET\", \"OPTIONS\"]\n",
        "    )\n",
        "    adapter = HTTPAdapter(max_retries=retry_strategy)\n",
        "    \n",
        "    # Mount the adapter to the requests session\n",
        "    session = requests.Session()\n",
        "    session.mount(\"https://\", adapter)\n",
        "    session.mount(\"http://\", adapter)\n",
        "    \n",
        "    try:\n",
        "        lang = translator.detect(text)\n",
        "        return lang\n",
        "    except requests.exceptions.RequestException as e:\n",
        "        print(f\"An error occurred: {e}\")\n",
        "        return None\n",
        "\n",
        "# Example usage\n",
        "text_to_translate = \"¿Hablas inglés?\"\n",
        "detected_language = translate_with_retry(text_to_translate)\n",
        "if detected_language:\n",
        "    print(f\"Detected language: {detected_language}\")\n",
        "else:\n",
        "    print(\"Failed to detect language.\")\n"
      ]
    },
    {
      "cell_type": "code",
      "execution_count": null,
      "metadata": {
        "colab": {
          "base_uri": "https://localhost:8080/"
        },
        "id": "06FfBrqdnSsC",
        "outputId": "87fb1644-a012-424e-bc0d-b8bd87968e27"
      },
      "outputs": [],
      "source": [
        "translator = Translator()\n",
        "text = \"¿Hablas inglés?\"\n",
        "lang = translator.detect(text)\n",
        "print(lang)"
      ]
    },
    {
      "cell_type": "code",
      "execution_count": null,
      "metadata": {
        "colab": {
          "base_uri": "https://localhost:8080/"
        },
        "id": "SKP4TmYWooA0",
        "outputId": "7bf52507-4b75-4d54-eed4-ad23a76a767e"
      },
      "outputs": [],
      "source": [
        "translator = Translator()\n",
        "text = \"Merci pour tout.\"\n",
        "lang = translator.detect(text).lang\n",
        "print(lang)"
      ]
    },
    {
      "cell_type": "code",
      "execution_count": null,
      "metadata": {
        "colab": {
          "base_uri": "https://localhost:8080/"
        },
        "id": "M6fFSlcKo5I2",
        "outputId": "ab1ffa49-118a-4843-ac71-85ab31d250b8"
      },
      "outputs": [],
      "source": [
        "translated_text = translator.translate(text, src = lang, dest = 'en')\n",
        "print(translated_text)"
      ]
    },
    {
      "cell_type": "code",
      "execution_count": null,
      "metadata": {
        "colab": {
          "base_uri": "https://localhost:8080/"
        },
        "id": "JP0oYw-Lppr9",
        "outputId": "333de812-c300-4300-c5a6-00c555793090"
      },
      "outputs": [],
      "source": [
        "translated_text = translator.translate(text, src = lang, dest = 'ar')\n",
        "print(translated_text)"
      ]
    },
    {
      "cell_type": "code",
      "execution_count": null,
      "metadata": {
        "colab": {
          "base_uri": "https://localhost:8080/"
        },
        "id": "7TohwBgaofBx",
        "outputId": "f873685b-ae92-4b5a-ee3a-78739e7a8ecf"
      },
      "outputs": [],
      "source": [
        "translated_text = translator.translate(text, src = lang, dest = 'ta')\n",
        "print(translated_text)"
      ]
    },
    {
      "cell_type": "code",
      "execution_count": null,
      "metadata": {
        "colab": {
          "base_uri": "https://localhost:8080/"
        },
        "id": "J-qfG2-cpIP1",
        "outputId": "f759e779-076a-47c1-9e92-7f38cc35b8cd"
      },
      "outputs": [],
      "source": [
        "translated_text = translator.translate(text, src = lang, dest = 'te')\n",
        "print(translated_text)"
      ]
    }
  ],
  "metadata": {
    "colab": {
      "provenance": []
    },
    "kernelspec": {
      "display_name": "Python 3",
      "name": "python3"
    },
    "language_info": {
      "codemirror_mode": {
        "name": "ipython",
        "version": 3
      },
      "file_extension": ".py",
      "mimetype": "text/x-python",
      "name": "python",
      "nbconvert_exporter": "python",
      "pygments_lexer": "ipython3",
      "version": "3.11.3"
    }
  },
  "nbformat": 4,
  "nbformat_minor": 0
}
